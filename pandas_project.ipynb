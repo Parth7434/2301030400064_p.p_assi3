# pandas_project.ipynb

import pandas as pd

# Sample student data
data = {
    'Name': ['Parth', 'Ravi', 'Aisha', 'Neha', 'Kunal'],
    'Subject': ['Math', 'Math', 'Math', 'Math', 'Math'],
    'Marks': [88, 76, 90, 85, 70]
}

# Create DataFrame
df = pd.DataFrame(data)

# Show DataFrame
print("Student Marks Data:\n", df)

# Calculate average marks
average_marks = df['Marks'].mean()
print("\nAverage Marks:", average_marks)

# Highest marks
highest = df['Marks'].max()
topper = df[df['Marks'] == highest]['Name'].values[0]
print(f"\nHighest Marks: {highest} (Topper: {topper})")

# Sorting by marks
sorted_df = df.sort_values(by='Marks', ascending=False)
print("\nSorted by Marks:\n", sorted_df)

# Describe statistics
print("\nStatistical Summary:\n", df.describe())

